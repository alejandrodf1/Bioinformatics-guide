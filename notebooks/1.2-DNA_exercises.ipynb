{
 "cells": [
  {
   "cell_type": "markdown",
   "metadata": {},
   "source": [
    "# DNA exercises\n",
    "This section will show how to calculate easily with python many operations performed with DNA sequences such as:\n",
    "* GC content in DNA\n",
    "\n",
    "By definition: The GC-content of a DNA string is given by the percentage of symbols in the string that are 'C' or 'G'. GC-content percentage is calculated as follows\n",
    "$\\frac{G+C}{A+T+G+C} \\times 100$\n"
   ]
  },
  {
   "cell_type": "code",
   "execution_count": 7,
   "metadata": {},
   "outputs": [
    {
     "name": "stdout",
     "output_type": "stream",
     "text": [
      "--2022-10-09 20:05:58--  https://raw.githubusercontent.com/lanacaldarevic/rosalind/main/gc_content/gc_content.fasta\n",
      "Resolving raw.githubusercontent.com (raw.githubusercontent.com)... 185.199.110.133, 185.199.111.133, 185.199.108.133, ...\n",
      "Connecting to raw.githubusercontent.com (raw.githubusercontent.com)|185.199.110.133|:443... connected.\n",
      "HTTP request sent, awaiting response... 200 OK\n",
      "Length: 9225 (9.0K) [text/plain]\n",
      "Saving to: ‘gc_content.fasta’\n",
      "\n",
      "gc_content.fasta    100%[===================>]   9.01K  --.-KB/s    in 0s      \n",
      "\n",
      "2022-10-09 20:05:59 (37.1 MB/s) - ‘gc_content.fasta’ saved [9225/9225]\n",
      "\n"
     ]
    }
   ],
   "source": [
    "#!wget https://raw.githubusercontent.com/lanacaldarevic/rosalind/main/gc_content/gc_content.fasta"
   ]
  },
  {
   "cell_type": "code",
   "execution_count": 1,
   "metadata": {},
   "outputs": [],
   "source": [
    "%load_ext autoreload\n",
    "%autoreload 2"
   ]
  },
  {
   "cell_type": "code",
   "execution_count": 4,
   "metadata": {},
   "outputs": [],
   "source": [
    "#import sys\n",
    "#sys.path.insert(0,\"../bioinformatics_guide\")\n"
   ]
  },
  {
   "cell_type": "code",
   "execution_count": 8,
   "metadata": {},
   "outputs": [],
   "source": [
    "from bioinformatics_guide.utils.paths import data_dir\n",
    "seq_file = data_dir('raw/gc_content.fasta') #dir of the sequences file"
   ]
  },
  {
   "cell_type": "code",
   "execution_count": 10,
   "metadata": {},
   "outputs": [
    {
     "name": "stdout",
     "output_type": "stream",
     "text": [
      "The higher GC content id: Rosalind_0132\n",
      "The higher GC content percentage is: 53.96308360477742\n"
     ]
    }
   ],
   "source": [
    "from Bio import SeqIO\n",
    "max_sequence_id = None\n",
    "max_gc_content  = 0\n",
    "\n",
    "for seq_record in SeqIO.parse(seq_file, 'fasta'):\n",
    "    sequence = str(seq_record.seq) #convert sequence to string\n",
    "    sequence_id = seq_record.id\n",
    "    gc_content = (sequence.count('C')+ sequence.count('G'))/len(sequence)*100\n",
    "    if gc_content > max_gc_content:\n",
    "        max_sequence_id = sequence_id\n",
    "        max_gc_content = gc_content\n",
    "\n",
    "print(f'The higher GC content id: {max_sequence_id}')\n",
    "print(f'The higher GC content percentage is: {max_gc_content}')"
   ]
  },
  {
   "cell_type": "markdown",
   "metadata": {},
   "source": [
    "# Central dogma\n",
    "The Central Dogma of Molecular Biology states that DNA makes RNA makes proteins. We can use biopython to obtain the steps of the central dogma in an automatized way.\n",
    "![](/home/alejandrodf1/Documents/bioinformatics/bioinformatics_guide/references/central_dogma.png)"
   ]
  },
  {
   "cell_type": "markdown",
   "metadata": {},
   "source": [
    "### Biopython \n",
    "Powerful tool that combined python string with biological methods. this section provide introduction to some of the methods that can be used with this tool.\n",
    "1. count method: Seq object has count() method just like a string. The results is a non-overlapping count\n",
    "2. GC method: this method allow to calculate the GC content in a given sequence \n"
   ]
  },
  {
   "cell_type": "code",
   "execution_count": 13,
   "metadata": {},
   "outputs": [
    {
     "name": "stdout",
     "output_type": "stream",
     "text": [
      "AGTACACTGGT\n"
     ]
    }
   ],
   "source": [
    "from Bio.Seq import Seq\n",
    "sequence = Seq('AGTACACTGGT')\n",
    "print(sequence)"
   ]
  },
  {
   "cell_type": "code",
   "execution_count": 18,
   "metadata": {},
   "outputs": [
    {
     "data": {
      "text/plain": [
       "2"
      ]
     },
     "execution_count": 18,
     "metadata": {},
     "output_type": "execute_result"
    }
   ],
   "source": [
    "# count() method\n",
    "sequence = Seq('AAAA')\n",
    "sequence.count('AA') #non-overlapping count"
   ]
  },
  {
   "cell_type": "code",
   "execution_count": 19,
   "metadata": {},
   "outputs": [
    {
     "data": {
      "text/plain": [
       "3"
      ]
     },
     "execution_count": 19,
     "metadata": {},
     "output_type": "execute_result"
    }
   ],
   "source": [
    "#overlapping count\n",
    "sequence.count_overlap('AA')"
   ]
  },
  {
   "cell_type": "code",
   "execution_count": 21,
   "metadata": {},
   "outputs": [
    {
     "data": {
      "text/plain": [
       "46.875"
      ]
     },
     "execution_count": 21,
     "metadata": {},
     "output_type": "execute_result"
    }
   ],
   "source": [
    "#GC content method\n",
    "from Bio.SeqUtils import GC\n",
    "sequence = Seq(\"GATCGATGGGCCTATATAGGATCGAAAATCGC\")\n",
    "GC(sequence)"
   ]
  },
  {
   "cell_type": "markdown",
   "metadata": {},
   "source": [
    "## Transcription: DNA -> RNA\n",
    "The actual biological transcription process works from the template strand, doing a reverse complement (TCAG → CUGA) to give the mRNA. However, in Biopython and bioinformatics in general, we typically work directly with the coding strand because this means we can get the mRNA sequence just by switching T → U."
   ]
  },
  {
   "cell_type": "code",
   "execution_count": 22,
   "metadata": {},
   "outputs": [
    {
     "name": "stdout",
     "output_type": "stream",
     "text": [
      "CTATCGGGCACCCTTTCAGCGGCCCATTACAATGGCCAT\n"
     ]
    }
   ],
   "source": [
    "coding_dna = Seq(\"ATGGCCATTGTAATGGGCCGCTGAAAGGGTGCCCGATAG\")\n",
    "template_dna = coding_dna.reverse_complement()\n",
    "template_dna  #template with direction 5' to 3'"
   ]
  },
  {
   "cell_type": "code",
   "execution_count": 23,
   "metadata": {},
   "outputs": [
    {
     "data": {
      "text/plain": [
       "Seq('AUGGCCAUUGUAAUGGGCCGCUGAAAGGGUGCCCGAUAG')"
      ]
     },
     "execution_count": 23,
     "metadata": {},
     "output_type": "execute_result"
    }
   ],
   "source": [
    "#transciption\n",
    "mess_rna = coding_dna.transcribe()\n",
    "mess_rna "
   ]
  },
  {
   "cell_type": "markdown",
   "metadata": {},
   "source": [
    "## Translation: RNA -> PROTEIN\n",
    "Where the funcion .translate can identify the stop codon in the rna with the '*' simbol."
   ]
  },
  {
   "cell_type": "code",
   "execution_count": 24,
   "metadata": {},
   "outputs": [
    {
     "data": {
      "text/plain": [
       "Seq('MAIVMGR*KGAR*')"
      ]
     },
     "execution_count": 24,
     "metadata": {},
     "output_type": "execute_result"
    }
   ],
   "source": [
    "mess_rna.translate() # * = stop codon"
   ]
  },
  {
   "cell_type": "code",
   "execution_count": 25,
   "metadata": {},
   "outputs": [
    {
     "data": {
      "text/plain": [
       "Seq('MAIVMGR*KGAR*')"
      ]
     },
     "execution_count": 25,
     "metadata": {},
     "output_type": "execute_result"
    }
   ],
   "source": [
    "#tranlation can be directly from coding DNA\n",
    "coding_dna.translate()"
   ]
  }
 ],
 "metadata": {
  "kernelspec": {
   "display_name": "Python 3.7.13 ('bioinformatics_guide')",
   "language": "python",
   "name": "python3"
  },
  "language_info": {
   "codemirror_mode": {
    "name": "ipython",
    "version": 3
   },
   "file_extension": ".py",
   "mimetype": "text/x-python",
   "name": "python",
   "nbconvert_exporter": "python",
   "pygments_lexer": "ipython3",
   "version": "3.7.13"
  },
  "orig_nbformat": 4,
  "vscode": {
   "interpreter": {
    "hash": "da237fa731602720a3f3e6d944922c7c565fa5d71ca86ff7e68fc8b536e72f55"
   }
  }
 },
 "nbformat": 4,
 "nbformat_minor": 2
}
